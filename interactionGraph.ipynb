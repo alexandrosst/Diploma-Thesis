{
 "cells": [
  {
   "cell_type": "code",
   "execution_count": 1,
   "metadata": {},
   "outputs": [],
   "source": [
    "import json\n",
    "import networkx as nx\n",
    "import dynetx as dn\n",
    "import re\n",
    "import numpy as np"
   ]
  },
  {
   "cell_type": "code",
   "execution_count": 2,
   "metadata": {},
   "outputs": [],
   "source": [
    "#function to read .json file of the input graph\n",
    "def readPreferenceGraph(filePath) :\n",
    "    with open(\"./preferenceGraph.json\") as file :\n",
    "        data = json.load(file)\n",
    "\n",
    "    G = nx.DiGraph()\n",
    "\n",
    "    for edge in data[\"edges\"] :\n",
    "        G.add_edge(edge[\"source\"], edge[\"target\"], comment=edge[\"comment\"])\n",
    "    \n",
    "    return G"
   ]
  },
  {
   "cell_type": "code",
   "execution_count": 3,
   "metadata": {},
   "outputs": [],
   "source": [
    "def createInteractionGraph(preferenceGraph, threshold, maxInteractions, maxTimestamp) :\n",
    "    n = preferenceGraph.number_of_nodes()\n",
    "\n",
    "    #create an empty Interaction Graph\n",
    "    interactionGraph = dn.DynGraph()\n",
    "    \n",
    "    def calculateProbability(weight) :\n",
    "        if re.match(r\".*prefers.*collaborate.*|.*prefers.*socialize.*\", weight) :\n",
    "            return 1\n",
    "        elif re.match(r\".*perceives.*prefers.*collaborate.*|.*perceives.*prefers.*socialize.*\", weight) :\n",
    "            return 0.7\n",
    "        elif re.match(r\".*perceives.*avoids.*collaborate.*|.*perceives.*avoids.*socialize.*\", weight) :\n",
    "            return 0.3\n",
    "        else :\n",
    "            return 0\n",
    "        \n",
    "    def analyzeQuiz() :        \n",
    "        #dictionary {edge : probability of existing in the Preference Graph}\n",
    "        edgesProbabilities = {}\n",
    "\n",
    "        #examine each eage in Preference Graph\n",
    "        #calculate probability. How strong is the connection between people?\n",
    "        for u, v in preferenceGraph.edges() :\n",
    "            if preferenceGraph.has_edge(v, u) :\n",
    "            #(u,v) and (v,u) are checked together once\n",
    "                if (v,u) in edgesProbabilities :\n",
    "                    #(v,u) is already checked, so neglect (u,v)\n",
    "                    continue \n",
    "                else :\n",
    "                    #(u,v), (v,u) pair has not been checked\n",
    "                    edgesProbabilities[(u,v)] = 0.5*(calculateProbability(preferenceGraph[u][v][\"comment\"]) + calculateProbability(preferenceGraph[v][u][\"comment\"]))\n",
    "            else :\n",
    "                edgesProbabilities[(u,v)] = calculateProbability(preferenceGraph[u][v][\"comment\"])\n",
    "\n",
    "        #find possible peers for a student\n",
    "        #step 1: find connecting links with prob < threshold\n",
    "        possiblePeers = [[] for _ in range(n)]       \n",
    "        for edge, prob in edgesProbabilities.items() :\n",
    "            if prob < threshold :\n",
    "                possiblePeers[edge[0]].append(edge[1])\n",
    "                possiblePeers[edge[1]].append(edge[0])\n",
    "\n",
    "        #step 2: keep all the other nodes as possible peers to interact with\n",
    "        possiblePeers = list(map(lambda item : list(set(range(n)) - set(item)), possiblePeers))\n",
    "        \n",
    "        return possiblePeers\n",
    "    \n",
    "    \n",
    "    #function to find total degree of a node from 0 to timestamp - 1\n",
    "    def previousDegree(node, timestamp) :\n",
    "        totalDegree = 0\n",
    "        for time in range(1,timestamp) :\n",
    "            totalDegree += interactionGraph.degree(node, t=time)\n",
    "        \n",
    "        return totalDegree\n",
    "    \n",
    "    def addEdgesAtTimestamp(timestamp) :\n",
    "        numberOfInteractions = np.random.choice([2,3,4])\n",
    "\n",
    "        for node in range(n) :\n",
    "            #find for a node how many additional interactions could we add with respect to maxInteractions parameter\n",
    "            possibleInteractions = maxInteractions - previousDegree(node, timestamp=timestamp)\n",
    "            if possibleInteractions < 0 :\n",
    "                continue\n",
    "            \n",
    "            #choose randomly from possible peers\n",
    "            for interaction in np.random.choice(possiblePeers[node], size=min(numberOfInteractions, possibleInteractions), replace=False) :\n",
    "                interactionGraph.add_interaction(node, interaction, t=timestamp)\n",
    "\n",
    "\n",
    "\n",
    "\n",
    "    possiblePeers = analyzeQuiz()\n",
    "\n",
    "    #interactions at timetsamp t = 0\n",
    "    #interactions based on a scale-free network model with m=3\n",
    "    G = nx.barabasi_albert_graph(n=preferenceGraph.number_of_nodes(), m=3)\n",
    "    interactionGraph.add_interactions_from(G.edges(), t=0)\n",
    "\n",
    "    #interactions at timestamps t >= 1\n",
    "    for t in range(1, maxTimestamp+1) :\n",
    "        addEdgesAtTimestamp(timestamp=t)\n",
    "\n",
    "    return interactionGraph\n",
    "\n",
    "\n"
   ]
  },
  {
   "cell_type": "code",
   "execution_count": 4,
   "metadata": {},
   "outputs": [],
   "source": [
    "path = \"./preferenceGraph.json\"\n",
    "\n",
    "options = {\n",
    "    \"threshold\" : 0.4,\n",
    "    \"maxInteractions\" : 30,\n",
    "    \"maxTimestamp\" : 10\n",
    "}\n",
    "\n",
    "G = createInteractionGraph(preferenceGraph=readPreferenceGraph(path), **options)"
   ]
  },
  {
   "cell_type": "code",
   "execution_count": 5,
   "metadata": {},
   "outputs": [
    {
     "name": "stdout",
     "output_type": "stream",
     "text": [
      "Interactions added...\n",
      "at t = 0: 441\n",
      "at t = 1: 293\n",
      "at t = 2: 444\n",
      "at t = 3: 448\n",
      "at t = 4: 445\n",
      "at t = 5: 428\n",
      "at t = 6: 201\n",
      "at t = 7: 132\n",
      "at t = 8: 12\n",
      "at t = 9: 5\n",
      "at t = 10: 0\n"
     ]
    }
   ],
   "source": [
    "print(\"Interactions added...\")\n",
    "for i in range(11) :\n",
    "    print(f\"at t = {i}: {G.number_of_interactions(t=i)}\")"
   ]
  },
  {
   "cell_type": "code",
   "execution_count": null,
   "metadata": {},
   "outputs": [],
   "source": []
  }
 ],
 "metadata": {
  "kernelspec": {
   "display_name": "Python 3",
   "language": "python",
   "name": "python3"
  },
  "language_info": {
   "codemirror_mode": {
    "name": "ipython",
    "version": 3
   },
   "file_extension": ".py",
   "mimetype": "text/x-python",
   "name": "python",
   "nbconvert_exporter": "python",
   "pygments_lexer": "ipython3",
   "version": "3.11.3"
  },
  "orig_nbformat": 4
 },
 "nbformat": 4,
 "nbformat_minor": 2
}
